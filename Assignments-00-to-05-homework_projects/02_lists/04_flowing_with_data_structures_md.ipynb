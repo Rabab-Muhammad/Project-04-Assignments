{
  "nbformat": 4,
  "nbformat_minor": 0,
  "metadata": {
    "colab": {
      "provenance": []
    },
    "kernelspec": {
      "name": "python3",
      "display_name": "Python 3"
    },
    "language_info": {
      "name": "python"
    }
  },
  "cells": [
    {
      "cell_type": "markdown",
      "source": [
        "## **Problem Statement**"
      ],
      "metadata": {
        "id": "zOSLTW2Tj6LP"
      }
    },
    {
      "cell_type": "markdown",
      "source": [
        "In the information flow lesson, we discussed using a variable storing a number as an example of scope. We saw that changes we made to the number inside a function did not stay unless we returned it. This is true for what we call immutable data types which include things like numbers and strings.\n",
        "\n",
        "However, there are also mutable data types where changes stay even if we don't return anything. Some examples of mutable data types are lists and dictionaries. This means that you should be mindful when modifying lists and dictionaries within helper functions since their changes stay whether or not you return them.\n",
        "\n",
        "To see this in action, fill out the add_three_copies(...) function which takes a list and some data and then adds three copies of the data to the list. Don't return anything and see what happens! Compare this process to the x = change(x) example and note the differences.\n",
        "\n",
        "Here is an example run of this program (user input in bold italics):\n",
        "\n",
        "Enter a message to copy: Hello world!\n",
        "\n",
        "List before: []\n",
        "\n",
        "List after: ['Hello world!', 'Hello world!', 'Hello world!']\n",
        "\n",
        "(Note. The concept of immutable/mutable data types is called mutability. Be careful because different programming languages have different rules regarding mutability!)"
      ],
      "metadata": {
        "id": "N_ZwwPycj_L3"
      }
    },
    {
      "cell_type": "markdown",
      "source": [
        "## **Solution**"
      ],
      "metadata": {
        "id": "oaycC70lkD4s"
      }
    },
    {
      "cell_type": "code",
      "source": [
        "def add_three_copies(my_list, data):\n",
        "    # Adds three copies of data to the provided list\n",
        "    for _ in range(3):\n",
        "        my_list.append(data)\n",
        "\n",
        "def main():\n",
        "    message = input(\"Enter a message to copy: \")\n",
        "    my_list = []\n",
        "    print(\"List before:\", my_list)\n",
        "    add_three_copies(my_list, message)\n",
        "    print(\"List after:\", my_list)\n",
        "\n",
        "if __name__ == \"__main__\":\n",
        "    main()\n"
      ],
      "metadata": {
        "colab": {
          "base_uri": "https://localhost:8080/"
        },
        "id": "yzLcencBkJdy",
        "outputId": "6a027549-522f-4d66-90a1-c10ab8b17f41"
      },
      "execution_count": 1,
      "outputs": [
        {
          "output_type": "stream",
          "name": "stdout",
          "text": [
            "Enter a message to copy: hello\n",
            "List before: []\n",
            "List after: ['hello', 'hello', 'hello']\n"
          ]
        }
      ]
    }
  ]
}