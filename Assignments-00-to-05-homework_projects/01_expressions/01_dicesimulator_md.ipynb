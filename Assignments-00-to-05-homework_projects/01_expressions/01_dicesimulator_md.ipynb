{
  "nbformat": 4,
  "nbformat_minor": 0,
  "metadata": {
    "colab": {
      "provenance": []
    },
    "kernelspec": {
      "name": "python3",
      "display_name": "Python 3"
    },
    "language_info": {
      "name": "python"
    }
  },
  "cells": [
    {
      "cell_type": "markdown",
      "source": [
        "## **Problem Statement**"
      ],
      "metadata": {
        "id": "WCRduSnb6t3L"
      }
    },
    {
      "cell_type": "markdown",
      "source": [
        "Simulate rolling two dice, three times. Prints the results of each die roll. This program is used to show how variable scope works."
      ],
      "metadata": {
        "id": "kY3zahmV6yP1"
      }
    },
    {
      "cell_type": "code",
      "source": [
        "\"\"\"\n",
        "Program: dicesimulator\n",
        "----------------------\n",
        "Simulate rolling two dice, three times. Prints\n",
        "the results of each die roll. This program is used\n",
        "to show how variable scope works.\n",
        "\"\"\"\n",
        "\n",
        "import random\n",
        "\n",
        "# Number of sides on each die\n",
        "NUM_SIDES = 6\n",
        "\n",
        "def roll_dice():\n",
        "    \"\"\"\n",
        "    Simulates rolling two dice and prints their total.\n",
        "    \"\"\"\n",
        "    die1 = random.randint(1, NUM_SIDES)\n",
        "    die2 = random.randint(1, NUM_SIDES)\n",
        "    total = die1 + die2\n",
        "    print(\"Total of two dice:\", total)\n",
        "\n",
        "def main():\n",
        "    die1 = 10\n",
        "    print(\"die1 in main() starts as: \" + str(die1))\n",
        "    roll_dice()\n",
        "    roll_dice()\n",
        "    roll_dice()\n",
        "    print(\"die1 in main() is: \" + str(die1))\n",
        "\n",
        "# This provided line is required at the end of the Python file\n",
        "# to call the main() function.\n",
        "if __name__ == '__main__':\n",
        "    main()\n"
      ],
      "metadata": {
        "colab": {
          "base_uri": "https://localhost:8080/"
        },
        "id": "KzVhbXf661_M",
        "outputId": "d6e07f86-03f1-4649-ca65-d27fe16d1c41"
      },
      "execution_count": 1,
      "outputs": [
        {
          "output_type": "stream",
          "name": "stdout",
          "text": [
            "die1 in main() starts as: 10\n",
            "Total of two dice: 5\n",
            "Total of two dice: 5\n",
            "Total of two dice: 4\n",
            "die1 in main() is: 10\n"
          ]
        }
      ]
    }
  ]
}