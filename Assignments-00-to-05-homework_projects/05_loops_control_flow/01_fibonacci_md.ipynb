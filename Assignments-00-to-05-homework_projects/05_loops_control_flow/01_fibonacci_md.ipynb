{
  "nbformat": 4,
  "nbformat_minor": 0,
  "metadata": {
    "colab": {
      "provenance": []
    },
    "kernelspec": {
      "name": "python3",
      "display_name": "Python 3"
    },
    "language_info": {
      "name": "python"
    }
  },
  "cells": [
    {
      "cell_type": "markdown",
      "source": [
        "## **Problem Statement**"
      ],
      "metadata": {
        "id": "1st7qIZI00FX"
      }
    },
    {
      "cell_type": "markdown",
      "source": [
        "Write a program to print terms in the Fibonacci sequence up to a maximum value.\n",
        "\n",
        "In the 13th century, the Italian mathematician Leonardo Fibonacci, as a way to explain the geometric growth of a population of rabbits, devised a mathematical sequence that now bears his name. The first two terms in this sequence, Fib(0) and Fib(1), are 0 and 1, and every subsequent term is the sum of the preceding two. Thus, the first several terms in the Fibonacci sequence look like this:\n",
        "\n",
        "Fib(0) = 0 Fib(1) = 1 Fib(2) = 1 = 0 + 1 Fib(3) = 2 = 1 + 1 Fib(4) = 3 = 1 + 2 Fib(5) = 5 = 2 + 3\n",
        "\n",
        "Write a program that displays the terms in the Fibonacci sequence, starting with Fib(0) and continuing as long as the terms are less than 10,000 (you should store this value as a constant!). Thus, your program should produce the following sample run:\n",
        "\n",
        "0 1 1 2 3 5 8 13 21 34 55 89 144 233 377 610 987 1597 2584 4181 6765"
      ],
      "metadata": {
        "id": "D57DVsDx05-9"
      }
    },
    {
      "cell_type": "markdown",
      "source": [
        "## **Solution**"
      ],
      "metadata": {
        "id": "hRQGbluN09bb"
      }
    },
    {
      "cell_type": "code",
      "source": [
        "# Constant for maximum Fibonacci term value\n",
        "MAX_TERM_VALUE: int = 10000\n",
        "\n",
        "def main():\n",
        "    curr_term = 0  # Fib(0)\n",
        "    next_term = 1  # Fib(1)\n",
        "\n",
        "    while curr_term <= MAX_TERM_VALUE:\n",
        "        print(curr_term, end=\" \")\n",
        "        # Calculate the next Fibonacci number\n",
        "        term_after_next = curr_term + next_term\n",
        "        curr_term = next_term\n",
        "        next_term = term_after_next\n",
        "\n",
        "# Python boilerplate\n",
        "if __name__ == '__main__':\n",
        "    main()\n"
      ],
      "metadata": {
        "colab": {
          "base_uri": "https://localhost:8080/"
        },
        "id": "CigWv4YY1BAU",
        "outputId": "9745d4a6-e80c-4f23-8494-5d2960dc0c51"
      },
      "execution_count": 1,
      "outputs": [
        {
          "output_type": "stream",
          "name": "stdout",
          "text": [
            "0 1 1 2 3 5 8 13 21 34 55 89 144 233 377 610 987 1597 2584 4181 6765 "
          ]
        }
      ]
    }
  ]
}