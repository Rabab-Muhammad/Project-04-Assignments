{
  "nbformat": 4,
  "nbformat_minor": 0,
  "metadata": {
    "colab": {
      "provenance": []
    },
    "kernelspec": {
      "name": "python3",
      "display_name": "Python 3"
    },
    "language_info": {
      "name": "python"
    }
  },
  "cells": [
    {
      "cell_type": "markdown",
      "source": [
        "**Problem Statement**"
      ],
      "metadata": {
        "id": "Qz7auoctxHLu"
      }
    },
    {
      "cell_type": "markdown",
      "source": [
        "In this program we show an example of using dictionaries to keep track of information in a phonebook."
      ],
      "metadata": {
        "id": "zQ0D0Oj3xMab"
      }
    },
    {
      "cell_type": "markdown",
      "source": [
        "## **Solution**"
      ],
      "metadata": {
        "id": "FCpR8LDUxPVY"
      }
    },
    {
      "cell_type": "code",
      "source": [
        "def read_phone_numbers():\n",
        "    \"\"\"\n",
        "    Ask the user for names/numbers to store in a phonebook (dictionary).\n",
        "    Returns the phonebook.\n",
        "    \"\"\"\n",
        "    phonebook = {}  # Create empty phonebook\n",
        "\n",
        "    while True:\n",
        "        name = input(\"Name: \")\n",
        "        if name == \"\":\n",
        "            break  # Exit the loop if the user enters an empty name\n",
        "        number = input(\"Number: \")\n",
        "        phonebook[name] = number  # Store the name and number in the dictionary\n",
        "\n",
        "    return phonebook\n",
        "\n",
        "\n",
        "def print_phonebook(phonebook):\n",
        "    \"\"\"\n",
        "    Prints out all the names/numbers in the phonebook.\n",
        "    \"\"\"\n",
        "    if phonebook:  # If the phonebook is not empty\n",
        "        print(\"\\nPhonebook:\")\n",
        "        for name in phonebook:\n",
        "            print(f\"{name} -> {phonebook[name]}\")\n",
        "    else:\n",
        "        print(\"The phonebook is empty.\")\n",
        "\n",
        "\n",
        "def lookup_numbers(phonebook):\n",
        "    \"\"\"\n",
        "    Allow the user to lookup phone numbers in the phonebook\n",
        "    by looking up the number associated with a name.\n",
        "    \"\"\"\n",
        "    while True:\n",
        "        name = input(\"\\nEnter name to lookup: \")\n",
        "        if name == \"\":\n",
        "            break  # Exit the loop if the user enters an empty name\n",
        "        if name not in phonebook:\n",
        "            print(f\"{name} is not in the phonebook\")\n",
        "        else:\n",
        "            print(f\"{name}'s number is: {phonebook[name]}\")\n",
        "\n",
        "\n",
        "def main():\n",
        "    # Read phone numbers from the user and store them in the phonebook\n",
        "    phonebook = read_phone_numbers()\n",
        "\n",
        "    # Print out the entire phonebook\n",
        "    print_phonebook(phonebook)\n",
        "\n",
        "    # Allow the user to lookup numbers\n",
        "    lookup_numbers(phonebook)\n",
        "\n",
        "\n",
        "# Python boilerplate to call main() when the script runs\n",
        "if __name__ == '__main__':\n",
        "    main()\n"
      ],
      "metadata": {
        "colab": {
          "base_uri": "https://localhost:8080/"
        },
        "id": "thUu0V-txUD7",
        "outputId": "a8da392d-5668-4d7f-b3aa-7b7c1685e208"
      },
      "execution_count": null,
      "outputs": [
        {
          "output_type": "stream",
          "name": "stdout",
          "text": [
            "Name: Rabab\n",
            "Number: 03123456789\n",
            "Name: \n",
            "\n",
            "Phonebook:\n",
            "Rabab -> 03123456789\n",
            "\n",
            "Enter name to lookup: Rabab\n",
            "Rabab's number is: 03123456789\n"
          ]
        }
      ]
    }
  ]
}