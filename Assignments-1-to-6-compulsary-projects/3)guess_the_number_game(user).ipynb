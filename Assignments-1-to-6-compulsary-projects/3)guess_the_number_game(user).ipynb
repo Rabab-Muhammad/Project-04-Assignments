{
  "nbformat": 4,
  "nbformat_minor": 0,
  "metadata": {
    "colab": {
      "provenance": []
    },
    "kernelspec": {
      "name": "python3",
      "display_name": "Python 3"
    },
    "language_info": {
      "name": "python"
    }
  },
  "cells": [
    {
      "cell_type": "markdown",
      "source": [
        "## **Project 03 : Guess The Number Game By User**"
      ],
      "metadata": {
        "id": "HY7_YaYDEZRf"
      }
    },
    {
      "cell_type": "code",
      "execution_count": 1,
      "metadata": {
        "colab": {
          "base_uri": "https://localhost:8080/"
        },
        "id": "v7IxqkMJEV40",
        "outputId": "580727f2-f375-4958-edaa-703e253f543e"
      },
      "outputs": [
        {
          "output_type": "stream",
          "name": "stdout",
          "text": [
            "🎯 Guess the number between 1 to 100!\n",
            "👉 Enter your guess: 50\n",
            "📉 Too low!\n",
            "👉 Enter your guess: 60\n",
            "📈 Too high!\n",
            "👉 Enter your guess: 55\n",
            "📉 Too low!\n",
            "👉 Enter your guess: 53\n",
            "📉 Too low!\n",
            "👉 Enter your guess: 54\n",
            "📉 Too low!\n",
            "👉 Enter your guess: 65\n",
            "📈 Too high!\n",
            "👉 Enter your guess: 58\n",
            "📈 Too high!\n",
            "👉 Enter your guess: 56\n",
            "📉 Too low!\n",
            "👉 Enter your guess: 57\n",
            "🎉 Congratulations! You guessed it right in 9 tries.\n"
          ]
        }
      ],
      "source": [
        "# Project 03 : Guess The Number Game By User\n",
        "# Instructor : Rabab Muhammad\n",
        "\n",
        "import random\n",
        "\n",
        "print(\"🎯 Guess the number between 1 to 100!\")\n",
        "\n",
        "# Generate a random number\n",
        "number = random.randint(1, 100)\n",
        "attempts = 0\n",
        "\n",
        "while True:\n",
        "    try:\n",
        "        guess = int(input(\"👉 Enter your guess: \"))\n",
        "        attempts += 1\n",
        "    except ValueError:\n",
        "        print(\"❌ Invalid input! Please enter a number.\")\n",
        "        continue\n",
        "\n",
        "    if guess < number:\n",
        "        print(\"📉 Too low!\")\n",
        "    elif guess > number:\n",
        "        print(\"📈 Too high!\")\n",
        "    else:\n",
        "        print(f\"🎉 Congratulations! You guessed it right in {attempts} tries.\")\n",
        "        break"
      ]
    }
  ]
}