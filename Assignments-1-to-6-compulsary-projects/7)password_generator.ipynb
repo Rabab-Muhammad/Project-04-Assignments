{
  "nbformat": 4,
  "nbformat_minor": 0,
  "metadata": {
    "colab": {
      "provenance": []
    },
    "kernelspec": {
      "name": "python3",
      "display_name": "Python 3"
    },
    "language_info": {
      "name": "python"
    }
  },
  "cells": [
    {
      "cell_type": "markdown",
      "source": [
        "## **Project 07 : Password Generator**"
      ],
      "metadata": {
        "id": "FS2vBi2vKbl0"
      }
    },
    {
      "cell_type": "code",
      "source": [
        "import random\n",
        "import string\n",
        "\n",
        "def generated_password(length=12):\n",
        "  characters = string.ascii_letters + string.digits + string.punctuation\n",
        "  password = ''.join(random.choice(characters) for _ in range(length))\n",
        "  return password\n",
        "\n",
        "# User input\n",
        "length = int(input(\"Enter the length of your desired password: \"))\n",
        "\n",
        "password = generated_password(length)\n",
        "print(\"Your Desired Generated Password: \", password, \"✨\")\n"
      ],
      "metadata": {
        "colab": {
          "base_uri": "https://localhost:8080/"
        },
        "id": "IHrULDmfNUST",
        "outputId": "e62b746e-6796-4b52-c862-e6185957947b"
      },
      "execution_count": null,
      "outputs": [
        {
          "output_type": "stream",
          "name": "stdout",
          "text": [
            "Enter the length of your desired password: 11\n",
            "Your Desired Generated Password:  NpOBC8wsW/f ✨\n"
          ]
        }
      ]
    }
  ]
}