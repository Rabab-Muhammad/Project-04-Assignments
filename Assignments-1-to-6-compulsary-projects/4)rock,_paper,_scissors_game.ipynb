{
  "nbformat": 4,
  "nbformat_minor": 0,
  "metadata": {
    "colab": {
      "provenance": []
    },
    "kernelspec": {
      "name": "python3",
      "display_name": "Python 3"
    },
    "language_info": {
      "name": "python"
    }
  },
  "cells": [
    {
      "cell_type": "markdown",
      "source": [
        "## **Project 04 : Rock, Paper, Scissors Gam**e"
      ],
      "metadata": {
        "id": "9Vg0a1zsGETz"
      }
    },
    {
      "cell_type": "code",
      "source": [
        "import random\n",
        "\n",
        "# Game choices\n",
        "choices = [\"rock\", \"paper\", \"scissors\"]\n",
        "\n",
        "# Player choice\n",
        "player_choice = input(\"Enter your choice (rock, paper, scissors): \").lower()\n",
        "\n",
        "# Check for valid input\n",
        "if player_choice not in choices:\n",
        "    print(\"❌ Invalid choice! Please choose rock, paper, or scissors.\")\n",
        "else:\n",
        "    # Computer choice\n",
        "    computer_choice = random.choice(choices)\n",
        "    print(f\"Computer chose: {computer_choice} 🤖\")\n",
        "\n",
        "    # Determine winner\n",
        "    if player_choice == computer_choice:\n",
        "        print(f\"🤝 It's a tie! You both chose {player_choice}.\")\n",
        "\n",
        "    elif player_choice == \"rock\" and computer_choice == \"scissors\":\n",
        "      print(f\"🎉 You win! {player_choice} beats {computer_choice} 💪\")\n",
        "\n",
        "    elif player_choice == \"paper\" and computer_choice == \"rock\":\n",
        "         print(f\"🎉 You win! {player_choice} beats {computer_choice} 💪\")\n",
        "\n",
        "    elif player_choice == \"scissors\" and computer_choice == \"paper\":\n",
        "         print(f\"🎉 You win! {player_choice} beats {computer_choice} 💪\")\n",
        "\n",
        "    else:\n",
        "        print(f\"💻 Computer wins! {computer_choice} beats {player_choice} 😢\")\n"
      ],
      "metadata": {
        "colab": {
          "base_uri": "https://localhost:8080/"
        },
        "id": "oOM2m79RAsI6",
        "outputId": "56d44ef0-a633-49e7-d3b0-4a1d87681b93"
      },
      "execution_count": null,
      "outputs": [
        {
          "output_type": "stream",
          "name": "stdout",
          "text": [
            "Enter your choice (rock, paper, scissors): scissors\n",
            "Computer chose: paper 🤖\n",
            "🎉 You win! scissors beats paper 💪\n"
          ]
        }
      ]
    }
  ]
}