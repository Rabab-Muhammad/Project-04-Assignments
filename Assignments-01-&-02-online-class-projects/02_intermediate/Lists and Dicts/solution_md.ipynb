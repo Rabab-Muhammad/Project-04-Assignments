{
  "nbformat": 4,
  "nbformat_minor": 0,
  "metadata": {
    "colab": {
      "provenance": []
    },
    "kernelspec": {
      "name": "python3",
      "display_name": "Python 3"
    },
    "language_info": {
      "name": "python"
    }
  },
  "cells": [
    {
      "cell_type": "markdown",
      "source": [
        "## **Index Game Solution**"
      ],
      "metadata": {
        "id": "dfBUuIgih6PC"
      }
    },
    {
      "cell_type": "code",
      "execution_count": 1,
      "metadata": {
        "colab": {
          "base_uri": "https://localhost:8080/"
        },
        "id": "jSYkHzdQh2Vb",
        "outputId": "874b24cc-14c0-40ff-9cfe-811c497db9c5"
      },
      "outputs": [
        {
          "output_type": "stream",
          "name": "stdout",
          "text": [
            "Current list: [1, 2, 3, 4, 5]\n",
            "Choose an operation: access, modify, slice\n",
            "Enter operation: modify\n",
            "Enter index to modify: 3\n",
            "Enter new value: 6\n",
            "Updated list: [1, 2, 3, '6', 5]\n"
          ]
        }
      ],
      "source": [
        "def access_element(lst, index):\n",
        "    try:\n",
        "        return lst[index]\n",
        "    except IndexError:\n",
        "        return \"Index out of range.\"\n",
        "\n",
        "def modify_element(lst, index, new_value):\n",
        "    try:\n",
        "        lst[index] = new_value\n",
        "        return lst\n",
        "    except IndexError:\n",
        "        return \"Index out of range.\"\n",
        "\n",
        "def slice_list(lst, start, end):\n",
        "    try:\n",
        "        return lst[start:end]\n",
        "    except IndexError:\n",
        "        return \"Invalid indices.\"\n",
        "\n",
        "def index_game():\n",
        "    lst = [1, 2, 3, 4, 5]  # Example list\n",
        "    print(\"Current list:\", lst)\n",
        "    print(\"Choose an operation: access, modify, slice\")\n",
        "    operation = input(\"Enter operation: \").lower()\n",
        "\n",
        "    if operation == \"access\":\n",
        "        index = int(input(\"Enter index to access: \"))\n",
        "        result = access_element(lst, index)\n",
        "        print(\"Result:\", result)\n",
        "\n",
        "    elif operation == \"modify\":\n",
        "        index = int(input(\"Enter index to modify: \"))\n",
        "        new_value = input(\"Enter new value: \")\n",
        "        result = modify_element(lst, index, new_value)\n",
        "        print(\"Updated list:\", result)\n",
        "\n",
        "    elif operation == \"slice\":\n",
        "        start = int(input(\"Enter start index: \"))\n",
        "        end = int(input(\"Enter end index: \"))\n",
        "        result = slice_list(lst, start, end)\n",
        "        print(\"Sliced list:\", result)\n",
        "\n",
        "    else:\n",
        "        print(\"Invalid operation.\")\n",
        "\n",
        "if __name__ == \"__main__\":\n",
        "    index_game()\n"
      ]
    },
    {
      "cell_type": "markdown",
      "source": [
        "## **List Practice Solution**"
      ],
      "metadata": {
        "id": "MTk48U5JVvPe"
      }
    },
    {
      "cell_type": "code",
      "source": [
        "def main():\n",
        "    # Create a list called fruit_list\n",
        "    fruit_list = ['apple', 'banana', 'orange', 'grape', 'pineapple']\n",
        "\n",
        "    # Print the length of the list\n",
        "    print(\"Length of fruit list:\", len(fruit_list))\n",
        "\n",
        "    # Add 'mango' to the end of the list\n",
        "    fruit_list.append('mango')\n",
        "\n",
        "    # Print the updated list\n",
        "    print(\"Updated fruit list:\")\n",
        "    for fruit in fruit_list:\n",
        "        print(fruit)\n",
        "\n",
        "if __name__ == \"__main__\":\n",
        "    main()\n"
      ],
      "metadata": {
        "colab": {
          "base_uri": "https://localhost:8080/"
        },
        "id": "3k1tQsoIVyFf",
        "outputId": "053fd79f-2ef3-4472-bb46-f5fb2bea460a"
      },
      "execution_count": 2,
      "outputs": [
        {
          "output_type": "stream",
          "name": "stdout",
          "text": [
            "Length of fruit list: 5\n",
            "Updated fruit list:\n",
            "apple\n",
            "banana\n",
            "orange\n",
            "grape\n",
            "pineapple\n",
            "mango\n"
          ]
        }
      ]
    }
  ]
}