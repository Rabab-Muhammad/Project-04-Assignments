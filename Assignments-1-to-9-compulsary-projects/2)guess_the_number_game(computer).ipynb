{
  "nbformat": 4,
  "nbformat_minor": 0,
  "metadata": {
    "colab": {
      "provenance": []
    },
    "kernelspec": {
      "name": "python3",
      "display_name": "Python 3"
    },
    "language_info": {
      "name": "python"
    }
  },
  "cells": [
    {
      "cell_type": "markdown",
      "source": [
        "## **Project 02 : Guess The Number Game By Computer**"
      ],
      "metadata": {
        "id": "nuxSAsiF1yok"
      }
    },
    {
      "cell_type": "code",
      "source": [
        "import random\n",
        "\n",
        "def guess_the_number():\n",
        "    \"\"\"\n",
        "    Project 02 : Guess The Number Game By Computer\n",
        "    \"\"\"\n",
        "    number = random.randint(1, 100)\n",
        "    guesses_left = 7\n",
        "\n",
        "    print(\"🎯 Welcome to the Number Guessing Game!\")\n",
        "    print(\"🤖 I'm thinking of a number between 1 and 100.\")\n",
        "\n",
        "    while guesses_left > 0:\n",
        "        print(f\"\\n🔢 You have {guesses_left} guesses left.\")\n",
        "        try:\n",
        "            guess = int(input(\"👉 Take a guess: \"))\n",
        "        except ValueError:\n",
        "            print(\"❌ Invalid input: Please enter a valid number.\")\n",
        "            continue  # ye sirf wrong input ke liye hai\n",
        "\n",
        "        if guess < number:\n",
        "            print(\"📉 Too low!\")\n",
        "        elif guess > number:\n",
        "            print(\"📈 Too high!\")\n",
        "        else:\n",
        "            print(f\"🎉 Congratulations! You guessed the number in {7 - guesses_left} tries.\")\n",
        "            return\n",
        "\n",
        "        guesses_left -= 1\n",
        "\n",
        "    print(f\"\\n😢 You ran out of guesses! The number was {number}.\")\n",
        "\n",
        "# Call the function\n",
        "guess_the_number()\n"
      ],
      "metadata": {
        "id": "F01_Cwc82FWT",
        "colab": {
          "base_uri": "https://localhost:8080/"
        },
        "outputId": "ecb9ff86-a312-4a7e-8829-be908ff9adf4"
      },
      "execution_count": 1,
      "outputs": [
        {
          "output_type": "stream",
          "name": "stdout",
          "text": [
            "🎯 Welcome to the Number Guessing Game!\n",
            "🤖 I'm thinking of a number between 1 and 100.\n",
            "\n",
            "🔢 You have 7 guesses left.\n",
            "👉 Take a guess: 50\n",
            "📉 Too low!\n",
            "\n",
            "🔢 You have 6 guesses left.\n",
            "👉 Take a guess: 60\n",
            "📉 Too low!\n",
            "\n",
            "🔢 You have 5 guesses left.\n",
            "👉 Take a guess: 70\n",
            "📉 Too low!\n",
            "\n",
            "🔢 You have 4 guesses left.\n",
            "👉 Take a guess: 90\n",
            "📈 Too high!\n",
            "\n",
            "🔢 You have 3 guesses left.\n",
            "👉 Take a guess: 80\n",
            "🎉 Congratulations! You guessed the number in 4 tries.\n"
          ]
        }
      ]
    }
  ]
}