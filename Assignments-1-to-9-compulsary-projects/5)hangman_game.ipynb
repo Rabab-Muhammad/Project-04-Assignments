{
  "nbformat": 4,
  "nbformat_minor": 0,
  "metadata": {
    "colab": {
      "provenance": []
    },
    "kernelspec": {
      "name": "python3",
      "display_name": "Python 3"
    },
    "language_info": {
      "name": "python"
    }
  },
  "cells": [
    {
      "cell_type": "markdown",
      "source": [
        "## **Project 05 : Hangman Game**"
      ],
      "metadata": {
        "id": "Z87EPQ8aCcGj"
      }
    },
    {
      "cell_type": "code",
      "source": [
        "# Hangman Game\n",
        "import random\n",
        "\n",
        "words = ['enum', 'python', 'collab', 'vscode', 'game']\n",
        "word = random.choice(words)\n",
        "guessed_letters = []\n",
        "attempts = 6\n",
        "\n",
        "print(\"Welcome to Hangman Game!\")\n",
        "print(\"_ \" * len(word))\n",
        "\n",
        "while attempts > 0:\n",
        "    guess = input(\"\\nGuess a letter: \").lower()\n",
        "\n",
        "    if len(guess) != 1 or not guess.isalpha():\n",
        "        print(\"Please enter only one alphabet letter.\")\n",
        "        continue\n",
        "\n",
        "    if guess in guessed_letters:\n",
        "        print(\"You've already guessed that letter. Try another one.\")\n",
        "        continue\n",
        "\n",
        "    guessed_letters.append(guess)\n",
        "\n",
        "    if guess in word:\n",
        "        print(\"✅ Correct guess!\")\n",
        "    else:\n",
        "        attempts -= 1\n",
        "        print(f\"❌ Wrong guess! You have {attempts} attempts left.\")\n",
        "\n",
        "    displayed_word = \" \".join([letter if letter in guessed_letters else \"_\" for letter in word])\n",
        "    print(displayed_word)\n",
        "\n",
        "    if \"_\" not in displayed_word:\n",
        "        print(f\"\\n🎉 Congratulations! The correct word is: {word}\")\n",
        "        break\n",
        "else:\n",
        "    print(f\"\\n💀 Game over! The correct word was: {word}\")\n"
      ],
      "metadata": {
        "id": "rxmRprZjCn51",
        "colab": {
          "base_uri": "https://localhost:8080/"
        },
        "outputId": "09a06031-342d-450c-d247-28ff9dec2ff6"
      },
      "execution_count": 2,
      "outputs": [
        {
          "output_type": "stream",
          "name": "stdout",
          "text": [
            "Welcome to Hangman Game!\n",
            "_ _ _ _ _ \n",
            "\n",
            "Guess a letter: a\n",
            "✅ Correct guess!\n",
            "_ a _ _\n",
            "\n",
            "Guess a letter: e\n",
            "✅ Correct guess!\n",
            "_ a _ e\n",
            "\n",
            "Guess a letter: r\n",
            "❌ Wrong guess! You have 5 attempts left.\n",
            "_ a _ e\n",
            "\n",
            "Guess a letter: g\n",
            "✅ Correct guess!\n",
            "g a _ e\n",
            "\n",
            "Guess a letter: m\n",
            "✅ Correct guess!\n",
            "g a m e\n",
            "\n",
            "🎉 Congratulations! The correct word is: game\n"
          ]
        }
      ]
    }
  ]
}