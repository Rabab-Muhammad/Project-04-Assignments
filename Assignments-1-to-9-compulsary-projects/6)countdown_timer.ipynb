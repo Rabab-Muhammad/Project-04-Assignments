{
  "nbformat": 4,
  "nbformat_minor": 0,
  "metadata": {
    "colab": {
      "provenance": []
    },
    "kernelspec": {
      "name": "python3",
      "display_name": "Python 3"
    },
    "language_info": {
      "name": "python"
    }
  },
  "cells": [
    {
      "cell_type": "markdown",
      "source": [
        "## **Project 06 : Countdown Timer**"
      ],
      "metadata": {
        "id": "EwttwlH5FBnR"
      }
    },
    {
      "cell_type": "code",
      "source": [
        "# Countdown timer\n",
        "\n",
        "import time\n",
        "def countdown_timer(seconds):\n",
        "  while seconds > 0:\n",
        "    mins, secs = divmod(seconds, 60) # Calculating minutes and seconds\n",
        "    time_format = \"{:02d}:{:02d}\".format(mins,secs)\n",
        "    print(time_format, end='\\r')\n",
        "    time.sleep(1) # Delay\n",
        "    seconds -= 1\n",
        "  print(\"00:00 ⏰\\n Time's Up! 🎉\")\n",
        "\n",
        "# User input for timer\n",
        "total_seconds = int(input(\"Enter time in seconds for countdown:\"))\n",
        "countdown_timer(total_seconds)\n"
      ],
      "metadata": {
        "colab": {
          "base_uri": "https://localhost:8080/"
        },
        "id": "2wixOCJUFIsN",
        "outputId": "dc0044d8-cc0b-4ee4-e33b-273314d8392c"
      },
      "execution_count": null,
      "outputs": [
        {
          "output_type": "stream",
          "name": "stdout",
          "text": [
            "Enter time in seconds for countdown:20\n",
            "00:00 ⏰\n",
            " Time's Up! 🎉\n"
          ]
        }
      ]
    }
  ]
}