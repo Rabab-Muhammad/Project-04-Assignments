{
  "nbformat": 4,
  "nbformat_minor": 0,
  "metadata": {
    "colab": {
      "provenance": []
    },
    "kernelspec": {
      "name": "python3",
      "display_name": "Python 3"
    },
    "language_info": {
      "name": "python"
    }
  },
  "cells": [
    {
      "cell_type": "markdown",
      "source": [
        "## **Mad Libs Game in Python**"
      ],
      "metadata": {
        "id": "bFQTtgOppwUW"
      }
    },
    {
      "cell_type": "code",
      "source": [
        "# User input\n",
        "name = input(\"Enter a boy's name: \")\n",
        "programming_language = input(\"Enter a programming language (e.g: TypeScript, Next.js, Python): \")\n",
        "mentor = input(\"Enter a mentor's name: \")\n",
        "location = input(\"Enter a location (e.g: Governor House)\")\n",
        "\n",
        "# Story created\n",
        "print(\"\\n🚀 Here is your fun little story! 📖\")\n",
        "print(f\"There once lived a curious boy named {name} 🧒, who was always dreaming big 💭.\")\n",
        "print(f\"From a young age, {name} was fascinated by technology 💻 and wanted to master the art of {programming_language} 🧠.\")\n",
        "print(f\"One fine morning ☀️, {name} stumbled upon a workshop happening at the {location} 🏛️.\")\n",
        "print(f\"There, he met a brilliant mentor named {mentor} 👨‍🏫, who was a wizard 🧙‍♂️ in the world of {programming_language} 🧑‍💻.\")\n",
        "print(f\"{mentor} took {name} under their wing and taught him everything they knew 📚.\")\n",
        "print(\"From that day on, a new chapter began — full of learning, growth 🌱, and a dash of code magic ✨.\")\n",
        "print(\"And so, the journey of a future tech legend had begun... 💫👨‍💻\")\n"
      ],
      "metadata": {
        "colab": {
          "base_uri": "https://localhost:8080/"
        },
        "id": "V2ZG3XXbp9c3",
        "outputId": "066c5938-22c3-41b1-8813-d58283ce118c"
      },
      "execution_count": 6,
      "outputs": [
        {
          "output_type": "stream",
          "name": "stdout",
          "text": [
            "Enter a boy's name: Ali\n",
            "Enter a programming language (e.g: TypeScript, Next.js, Python): Python\n",
            "Enter a mentor's name: Sir Zia\n",
            "Enter a location (e.g: Governor House)Governor House\n",
            "\n",
            "🚀 Here is your fun little story! 📖\n",
            "There once lived a curious boy named Ali 🧒, who was always dreaming big 💭.\n",
            "From a young age, Ali was fascinated by technology 💻 and wanted to master the art of Python 🧠.\n",
            "One fine morning ☀️, Ali stumbled upon a workshop happening at the Governor House 🏛️.\n",
            "There, he met a brilliant mentor named Sir Zia 👨‍🏫, who was a wizard 🧙‍♂️ in the world of Python 🧑‍💻.\n",
            "Sir Zia took Ali under their wing and taught him everything they knew 📚.\n",
            "From that day on, a new chapter began — full of learning, growth 🌱, and a dash of code magic ✨.\n",
            "And so, the journey of a future tech legend had begun... 💫👨‍💻\n"
          ]
        }
      ]
    }
  ]
}