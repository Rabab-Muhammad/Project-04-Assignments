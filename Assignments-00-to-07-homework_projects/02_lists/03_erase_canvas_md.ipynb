{
  "nbformat": 4,
  "nbformat_minor": 0,
  "metadata": {
    "colab": {
      "provenance": []
    },
    "kernelspec": {
      "name": "python3",
      "display_name": "Python 3"
    },
    "language_info": {
      "name": "python"
    }
  },
  "cells": [
    {
      "cell_type": "markdown",
      "source": [
        "## **Problem Statement**"
      ],
      "metadata": {
        "id": "xDaVPMIlFGRV"
      }
    },
    {
      "cell_type": "markdown",
      "source": [
        "Implement an 'eraser' on a canvas.\n",
        "\n",
        "The canvas consists of a grid of blue 'cells' which are drawn as rectangles on the screen. We then create an eraser rectangle which, when dragged around the canvas, sets all of the rectangles it is in contact with to white."
      ],
      "metadata": {
        "id": "Mqv8wtPLFKep"
      }
    },
    {
      "cell_type": "markdown",
      "source": [
        "## **Solution**"
      ],
      "metadata": {
        "id": "KMSdYHhUFSlZ"
      }
    },
    {
      "cell_type": "code",
      "source": [
        "!pip install package-name\n"
      ],
      "metadata": {
        "colab": {
          "base_uri": "https://localhost:8080/"
        },
        "id": "DZpvXTalH0VQ",
        "outputId": "f2ab4fde-ee3c-4fab-d259-827f7e242f1e"
      },
      "execution_count": 2,
      "outputs": [
        {
          "output_type": "stream",
          "name": "stdout",
          "text": [
            "Collecting package-name\n",
            "  Downloading package_name-0.1.tar.gz (782 bytes)\n",
            "  Preparing metadata (setup.py) ... \u001b[?25l\u001b[?25hdone\n",
            "Building wheels for collected packages: package-name\n",
            "  Building wheel for package-name (setup.py) ... \u001b[?25l\u001b[?25hdone\n",
            "  Created wheel for package-name: filename=package_name-0.1-py3-none-any.whl size=1229 sha256=d3a04d6ad6094e8b4b140cbd5ec007d8bd7dfa30852bafaf75bea61efcdeb5cf\n",
            "  Stored in directory: /root/.cache/pip/wheels/b3/c1/6f/538e951eb00f535f43151173b4c55e463a35c17b9e90ab3b1a\n",
            "Successfully built package-name\n",
            "Installing collected packages: package-name\n",
            "Successfully installed package-name-0.1\n"
          ]
        }
      ]
    },
    {
      "cell_type": "code",
      "source": [
        "!pip install matplotlib\n",
        "\n"
      ],
      "metadata": {
        "colab": {
          "base_uri": "https://localhost:8080/"
        },
        "id": "FQwuLonxIAKZ",
        "outputId": "7eebe392-179f-48fe-a960-046e7ac79544"
      },
      "execution_count": 4,
      "outputs": [
        {
          "output_type": "stream",
          "name": "stdout",
          "text": [
            "Requirement already satisfied: matplotlib in /usr/local/lib/python3.11/dist-packages (3.10.0)\n",
            "Requirement already satisfied: contourpy>=1.0.1 in /usr/local/lib/python3.11/dist-packages (from matplotlib) (1.3.2)\n",
            "Requirement already satisfied: cycler>=0.10 in /usr/local/lib/python3.11/dist-packages (from matplotlib) (0.12.1)\n",
            "Requirement already satisfied: fonttools>=4.22.0 in /usr/local/lib/python3.11/dist-packages (from matplotlib) (4.57.0)\n",
            "Requirement already satisfied: kiwisolver>=1.3.1 in /usr/local/lib/python3.11/dist-packages (from matplotlib) (1.4.8)\n",
            "Requirement already satisfied: numpy>=1.23 in /usr/local/lib/python3.11/dist-packages (from matplotlib) (2.0.2)\n",
            "Requirement already satisfied: packaging>=20.0 in /usr/local/lib/python3.11/dist-packages (from matplotlib) (24.2)\n",
            "Requirement already satisfied: pillow>=8 in /usr/local/lib/python3.11/dist-packages (from matplotlib) (11.1.0)\n",
            "Requirement already satisfied: pyparsing>=2.3.1 in /usr/local/lib/python3.11/dist-packages (from matplotlib) (3.2.3)\n",
            "Requirement already satisfied: python-dateutil>=2.7 in /usr/local/lib/python3.11/dist-packages (from matplotlib) (2.8.2)\n",
            "Requirement already satisfied: six>=1.5 in /usr/local/lib/python3.11/dist-packages (from python-dateutil>=2.7->matplotlib) (1.17.0)\n"
          ]
        }
      ]
    },
    {
      "cell_type": "code",
      "source": [
        "import matplotlib.pyplot as plt\n",
        "import numpy as np\n",
        "\n",
        "# Constants\n",
        "CANVAS_WIDTH = 400\n",
        "CANVAS_HEIGHT = 400\n",
        "CELL_SIZE = 40\n",
        "\n",
        "NUM_ROWS = CANVAS_HEIGHT // CELL_SIZE\n",
        "NUM_COLS = CANVAS_WIDTH // CELL_SIZE\n",
        "\n",
        "# 2D grid where 1 means blue (filled), 0 means white (erased)\n",
        "grid = np.ones((NUM_ROWS, NUM_COLS))\n",
        "\n",
        "# Track dragging status\n",
        "dragging = False\n",
        "\n",
        "# Function to draw the grid\n",
        "def draw_grid():\n",
        "    plt.clf()\n",
        "    plt.imshow(grid, cmap='Blues', vmin=0, vmax=1)\n",
        "    plt.xticks(np.arange(NUM_COLS))\n",
        "    plt.yticks(np.arange(NUM_ROWS))\n",
        "    plt.grid(True, which='both', color='black', linewidth=1)\n",
        "    plt.gca().invert_yaxis()\n",
        "    plt.title(\"Click and drag to erase, press 'r' to reset\")\n",
        "    plt.pause(0.01)\n",
        "\n",
        "# Mouse click event handler\n",
        "def on_click(event):\n",
        "    global dragging\n",
        "\n",
        "    if event.inaxes is None:\n",
        "        return\n",
        "\n",
        "    col = int(event.xdata)\n",
        "    row = int(event.ydata)\n",
        "\n",
        "    if 0 <= row < NUM_ROWS and 0 <= col < NUM_COLS:\n",
        "        grid[row, col] = 0  # Erase cell (set to white)\n",
        "        draw_grid()\n",
        "        dragging = True  # Start dragging\n",
        "\n",
        "# Mouse motion event handler for dragging\n",
        "def on_motion(event):\n",
        "    global dragging\n",
        "\n",
        "    if dragging and event.inaxes is not None:\n",
        "        col = int(event.xdata)\n",
        "        row = int(event.ydata)\n",
        "\n",
        "        if 0 <= row < NUM_ROWS and 0 <= col < NUM_COLS:\n",
        "            grid[row, col] = 0  # Erase cell (set to white)\n",
        "            draw_grid()\n",
        "\n",
        "# Mouse release event handler to stop dragging\n",
        "def on_release(event):\n",
        "    global dragging\n",
        "    dragging = False  # Stop dragging\n",
        "\n",
        "# Keyboard event to reset grid\n",
        "def on_key(event):\n",
        "    if event.key == 'r':  # Press 'r' to reset\n",
        "        reset_grid()\n",
        "\n",
        "# Function to reset the grid to all blue\n",
        "def reset_grid():\n",
        "    global grid\n",
        "    grid = np.ones((NUM_ROWS, NUM_COLS))  # Set all cells to blue\n",
        "    draw_grid()\n",
        "\n",
        "# Set up the plot\n",
        "fig = plt.figure(figsize=(6, 6))\n",
        "draw_grid()\n",
        "\n",
        "# Connect events\n",
        "fig.canvas.mpl_connect('button_press_event', on_click)  # Click to start dragging\n",
        "fig.canvas.mpl_connect('motion_notify_event', on_motion)  # Drag to erase\n",
        "fig.canvas.mpl_connect('button_release_event', on_release)  # Release to stop dragging\n",
        "fig.canvas.mpl_connect('key_press_event', on_key)  # Reset grid on 'r' key\n",
        "\n",
        "plt.show()\n"
      ],
      "metadata": {
        "colab": {
          "base_uri": "https://localhost:8080/",
          "height": 545
        },
        "id": "WQ2-UzM6JW_i",
        "outputId": "1598cbe7-78e3-4805-c36d-508c1755f33d"
      },
      "execution_count": 9,
      "outputs": [
        {
          "output_type": "display_data",
          "data": {
            "text/plain": [
              "<Figure size 600x600 with 1 Axes>"
            ],
            "image/png": "[encoded data removed]"
          },
          "metadata": {}
        }
      ]
    }
  ]
}