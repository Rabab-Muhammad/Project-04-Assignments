{
  "nbformat": 4,
  "nbformat_minor": 0,
  "metadata": {
    "colab": {
      "provenance": []
    },
    "kernelspec": {
      "name": "python3",
      "display_name": "Python 3"
    },
    "language_info": {
      "name": "python"
    }
  },
  "cells": [
    {
      "cell_type": "markdown",
      "source": [
        "## **Problem Statement**"
      ],
      "metadata": {
        "id": "OLEJgG7Km2Cq"
      }
    },
    {
      "cell_type": "markdown",
      "source": [
        "Write a program which continuously asks the user to enter values which are added one by one into a list. When the user presses enter without typing anything, print the list.\n",
        "\n",
        "Here's a sample run (user input is in blue):\n",
        "\n",
        "Enter a value: 1 Enter a value: 2 Enter a value: 3 Enter a value: Here's the list: ['1', '2', '3']"
      ],
      "metadata": {
        "id": "8u4DXRmCm8eV"
      }
    },
    {
      "cell_type": "markdown",
      "source": [
        "## **Solution**"
      ],
      "metadata": {
        "id": "yu0q-OAQm_39"
      }
    },
    {
      "cell_type": "code",
      "source": [
        "def main():\n",
        "    lst = []  # Make an empty list to store user inputs\n",
        "\n",
        "    val = input(\"Enter a value: \")  # Get the initial value\n",
        "    while val:  # Loop until user presses Enter on an empty input\n",
        "        lst.append(val)\n",
        "        val = input(\"Enter a value: \")\n",
        "\n",
        "    print(\"Here's the list:\", lst)\n",
        "\n",
        "# This provided line is required at the end of the Python file\n",
        "if __name__ == '__main__':\n",
        "    main()\n"
      ],
      "metadata": {
        "colab": {
          "base_uri": "https://localhost:8080/"
        },
        "id": "uxga6begnEsA",
        "outputId": "82ba001c-85cb-48c2-abf3-0c3b56aa637d"
      },
      "execution_count": 1,
      "outputs": [
        {
          "output_type": "stream",
          "name": "stdout",
          "text": [
            "Enter a value: 1\n",
            "Enter a value: 2\n",
            "Enter a value: 3\n",
            "Enter a value: 4\n",
            "Enter a value: \n",
            "Here's the list: ['1', '2', '3', '4']\n"
          ]
        }
      ]
    }
  ]
}