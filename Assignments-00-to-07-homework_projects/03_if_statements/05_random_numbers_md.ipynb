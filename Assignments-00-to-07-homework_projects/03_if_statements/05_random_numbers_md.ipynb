{
  "nbformat": 4,
  "nbformat_minor": 0,
  "metadata": {
    "colab": {
      "provenance": []
    },
    "kernelspec": {
      "name": "python3",
      "display_name": "Python 3"
    },
    "language_info": {
      "name": "python"
    }
  },
  "cells": [
    {
      "cell_type": "markdown",
      "source": [
        "## **Problem Statement**"
      ],
      "metadata": {
        "id": "ilW2I4qavWVm"
      }
    },
    {
      "cell_type": "markdown",
      "source": [
        "Print 10 random numbers in the range 1 to 100.\n",
        "\n",
        "Here is an example run:\n",
        "\n",
        "45 79 61 47 52 10 16 83 19 12\n",
        "\n",
        "Each time you run your program you should get different numbers\n",
        "\n",
        "81 76 70 1 27 63 96 100 32 92\n",
        "\n",
        "Recall that the python random library has a function randint which returns an integer in the range set by the parameters (inclusive). For example this call would produce a random integer between 1 and 6, which could include 1 and could include 6:\n",
        "\n",
        "value = random.randint(1, 6)"
      ],
      "metadata": {
        "id": "RcNEJhoZvaVh"
      }
    },
    {
      "cell_type": "markdown",
      "source": [
        "## **Solution**"
      ],
      "metadata": {
        "id": "JFBNUdWwvdGP"
      }
    },
    {
      "cell_type": "code",
      "source": [
        "import random\n",
        "\n",
        "N_NUMBERS: int = 10\n",
        "MIN_VALUE: int = 1\n",
        "MAX_VALUE: int = 100\n",
        "\n",
        "def main():\n",
        "    for _ in range(N_NUMBERS):\n",
        "        value = random.randint(MIN_VALUE, MAX_VALUE)\n",
        "        print(value, end=' ')\n",
        "    print()  # Just to move to a new line after printing all numbers\n",
        "\n",
        "# This provided line is required at the end of the Python file\n",
        "if __name__ == '__main__':\n",
        "    main()\n"
      ],
      "metadata": {
        "colab": {
          "base_uri": "https://localhost:8080/"
        },
        "id": "qrj94RuWvguh",
        "outputId": "4633fb87-92ca-4717-d5c9-5e373b95f35d"
      },
      "execution_count": 1,
      "outputs": [
        {
          "output_type": "stream",
          "name": "stdout",
          "text": [
            "28 10 16 84 27 29 83 5 2 90 \n"
          ]
        }
      ]
    }
  ]
}