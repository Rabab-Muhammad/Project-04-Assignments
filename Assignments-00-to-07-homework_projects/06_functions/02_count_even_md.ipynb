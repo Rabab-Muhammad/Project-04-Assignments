{
  "nbformat": 4,
  "nbformat_minor": 0,
  "metadata": {
    "colab": {
      "provenance": []
    },
    "kernelspec": {
      "name": "python3",
      "display_name": "Python 3"
    },
    "language_info": {
      "name": "python"
    }
  },
  "cells": [
    {
      "cell_type": "markdown",
      "source": [
        "## **Problem Statement**"
      ],
      "metadata": {
        "id": "_avwKxRl6WJM"
      }
    },
    {
      "cell_type": "markdown",
      "source": [
        "Fill out the function count_even(lst) which\n",
        "\n",
        "first populates a list by prompting the user for integers until they press enter (please use the prompt \"Enter an integer or press enter to stop: \"),\n",
        "\n",
        "and then prints the number of even numbers in the list.\n",
        "\n",
        "If you'd prefer to focus on the second task only, scroll down for our implementation of the first task!"
      ],
      "metadata": {
        "id": "Kb9LUA826Z07"
      }
    },
    {
      "cell_type": "markdown",
      "source": [
        "## **Solution**"
      ],
      "metadata": {
        "id": "UraOmay26dIh"
      }
    },
    {
      "cell_type": "code",
      "source": [
        "def count_even(lst):\n",
        "    \"\"\"\n",
        "    Returns the number of even numbers in the list.\n",
        "    >>> count_even([1,2,3,4])\n",
        "    2\n",
        "    >>> count_even([1,3,5,7])\n",
        "    0\n",
        "    \"\"\"\n",
        "    count = 0  # Store the count of even numbers\n",
        "    for num in lst:  # Loop through the list of numbers\n",
        "        if num % 2 == 0:  # If the number is even (divisible by 2)\n",
        "            count += 1  # Increase the count by 1 for each even number\n",
        "    print(count)  # Print the final count of even numbers\n",
        "\n",
        "def get_list_of_ints():\n",
        "    \"\"\"\n",
        "    Reads integers from the user until they press enter and returns a list of the integers.\n",
        "    \"\"\"\n",
        "    lst = []  # Create an empty list to store integers\n",
        "    user_input = input(\"Enter an integer or press enter to stop: \")  # Prompt the user for input\n",
        "    while user_input != \"\":  # Continue until the user presses enter without providing input\n",
        "        lst.append(int(user_input))  # Convert the input to an integer and add it to the list\n",
        "        user_input = input(\"Enter an integer or press enter to stop: \")  # Ask for another input\n",
        "    return lst  # Return the populated list\n",
        "\n",
        "def main():\n",
        "    lst = get_list_of_ints()  # Get the list of integers from the user\n",
        "    count_even(lst)  # Count and print the number of even numbers in the list\n",
        "\n",
        "# Call the main function when the script is executed\n",
        "if __name__ == '__main__':\n",
        "    main()\n"
      ],
      "metadata": {
        "colab": {
          "base_uri": "https://localhost:8080/"
        },
        "id": "ohA2qRZ26gjh",
        "outputId": "d202c8fd-0592-4c4d-d9e7-7a32a142633e"
      },
      "execution_count": 1,
      "outputs": [
        {
          "output_type": "stream",
          "name": "stdout",
          "text": [
            "Enter an integer or press enter to stop: 1\n",
            "Enter an integer or press enter to stop: 2\n",
            "Enter an integer or press enter to stop: 3\n",
            "Enter an integer or press enter to stop: 4\n",
            "Enter an integer or press enter to stop: \n",
            "2\n"
          ]
        }
      ]
    }
  ]
}