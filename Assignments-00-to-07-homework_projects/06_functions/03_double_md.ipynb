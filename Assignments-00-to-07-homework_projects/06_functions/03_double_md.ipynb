{
  "nbformat": 4,
  "nbformat_minor": 0,
  "metadata": {
    "colab": {
      "provenance": []
    },
    "kernelspec": {
      "name": "python3",
      "display_name": "Python 3"
    },
    "language_info": {
      "name": "python"
    }
  },
  "cells": [
    {
      "cell_type": "markdown",
      "source": [
        "## **Problem Statement**"
      ],
      "metadata": {
        "id": "XffYtTyX7VEk"
      }
    },
    {
      "cell_type": "markdown",
      "source": [
        "Fill out the double(num) function to return the result of multiplying num by 2. We've written a main() function for you which asks the user for a number, calls your code for double(num) , and prints the result.\n",
        "\n",
        "Here's a sample run of the program (user input in bold italics):\n",
        "\n",
        "Enter a number: 2 Double that is 4"
      ],
      "metadata": {
        "id": "PM6DrQ5P7Z5_"
      }
    },
    {
      "cell_type": "markdown",
      "source": [
        "## **Solution**"
      ],
      "metadata": {
        "id": "5Nt7wU0T7csl"
      }
    },
    {
      "cell_type": "code",
      "source": [
        "def double(num: int):\n",
        "    \"\"\"\n",
        "    Returns the result of multiplying num by 2.\n",
        "    \"\"\"\n",
        "    return num * 2\n",
        "\n",
        "def main():\n",
        "    num = int(input(\"Enter a number: \"))  # Prompt the user to enter a number\n",
        "    num_times_2 = double(num)  # Call the double function to multiply the number by 2\n",
        "    print(\"Double that is\", num_times_2)  # Print the result\n",
        "\n",
        "if __name__ == '__main__':\n",
        "    main()\n"
      ],
      "metadata": {
        "colab": {
          "base_uri": "https://localhost:8080/"
        },
        "id": "vnt3KhJf7gJx",
        "outputId": "91610e2f-26be-476a-ade7-0058d6683397"
      },
      "execution_count": 1,
      "outputs": [
        {
          "output_type": "stream",
          "name": "stdout",
          "text": [
            "Enter a number: 2\n",
            "Double that is 4\n"
          ]
        }
      ]
    }
  ]
}