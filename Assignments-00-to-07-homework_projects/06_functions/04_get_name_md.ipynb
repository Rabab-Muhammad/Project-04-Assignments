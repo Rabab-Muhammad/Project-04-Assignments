{
  "nbformat": 4,
  "nbformat_minor": 0,
  "metadata": {
    "colab": {
      "provenance": []
    },
    "kernelspec": {
      "name": "python3",
      "display_name": "Python 3"
    },
    "language_info": {
      "name": "python"
    }
  },
  "cells": [
    {
      "cell_type": "markdown",
      "source": [
        "## **Problem Statement**"
      ],
      "metadata": {
        "id": "V_at77EZ78hy"
      }
    },
    {
      "cell_type": "markdown",
      "source": [
        "Fill out the get_name() function to return your name as a string! We've written a main() function for you which calls your function to retrieve your name and then prints it in a greeting.\n",
        "\n",
        "Here's a sample run of the program where the name we've decided to return is Sophia (the autograder expects the returned name to be Sophia):\n",
        "\n",
        "Howdy Sophia ! 🤠"
      ],
      "metadata": {
        "id": "IqJqr99K8AXA"
      }
    },
    {
      "cell_type": "markdown",
      "source": [
        "## **Solution**"
      ],
      "metadata": {
        "id": "IdXf1pDW8DqN"
      }
    },
    {
      "cell_type": "code",
      "source": [
        "def get_name():\n",
        "    \"\"\"\n",
        "    Returns my name as a string.\n",
        "    \"\"\"\n",
        "    return \"Sophia\"\n",
        "\n",
        "def main():\n",
        "    name = get_name()  # Call the get_name() function to retrieve the name\n",
        "    print(\"Howdy\", name, \"! 🤠\")  # Print a greeting with the name\n",
        "\n",
        "if __name__ == '__main__':\n",
        "    main()\n"
      ],
      "metadata": {
        "colab": {
          "base_uri": "https://localhost:8080/"
        },
        "id": "4msLnhif8HZT",
        "outputId": "e812c21f-30db-401d-d8a9-91c1a38c7227"
      },
      "execution_count": 1,
      "outputs": [
        {
          "output_type": "stream",
          "name": "stdout",
          "text": [
            "Howdy Sophia ! 🤠\n"
          ]
        }
      ]
    }
  ]
}