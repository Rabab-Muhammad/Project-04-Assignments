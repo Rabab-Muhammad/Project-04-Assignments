{
  "nbformat": 4,
  "nbformat_minor": 0,
  "metadata": {
    "colab": {
      "provenance": []
    },
    "kernelspec": {
      "name": "python3",
      "display_name": "Python 3"
    },
    "language_info": {
      "name": "python"
    }
  },
  "cells": [
    {
      "cell_type": "markdown",
      "source": [
        "## **Problem Statement**"
      ],
      "metadata": {
        "id": "pGx9gBaqyIXT"
      }
    },
    {
      "cell_type": "markdown",
      "source": [
        "There's a small fruit shop nearby your house that you like to buy from. Since you buy several fruit at a time, you want to keep track of how much the fruit will cost before you go. Luckily you wrote down what fruits were available and how much one of each fruit costs.\n",
        "\n",
        "Write a program that loops through a dictionary of fruits, prompting the user to see how many of each fruit they want to buy, and then prints out the total combined cost of all of the fruits.\n",
        "\n",
        "Here is an example run of the program (user input is in bold italics):\n",
        "\n",
        "How many (apple) do you want?: 2\n",
        "\n",
        "How many (durian) do you want?: 0\n",
        "\n",
        "How many (jackfruit) do you want?: 1\n",
        "\n",
        "How many (kiwi) do you want?: 0\n",
        "\n",
        "How many (rambutan) do you want?: 1\n",
        "\n",
        "How many (mango) do you want?: 3\n",
        "\n",
        "Your total is $99.5"
      ],
      "metadata": {
        "id": "2KCxKObByfCJ"
      }
    },
    {
      "cell_type": "markdown",
      "source": [
        "## **Solution**"
      ],
      "metadata": {
        "id": "tD14LA_RyiZg"
      }
    },
    {
      "cell_type": "code",
      "source": [
        "def main():\n",
        "    # Dictionary of fruit and their prices\n",
        "    fruits = {\n",
        "        'apple': 1.5,\n",
        "        'durian': 50,\n",
        "        'jackfruit': 80,\n",
        "        'kiwi': 1,\n",
        "        'rambutan': 1.5,\n",
        "        'mango': 5\n",
        "    }\n",
        "\n",
        "    total_cost = 0  # Initialize total cost\n",
        "\n",
        "    # Ask the user how many of each fruit they want\n",
        "    for fruit_name in fruits:\n",
        "        price = fruits[fruit_name]\n",
        "        amount_bought = int(input(\"How many (\" + fruit_name + \") do you want?: \"))\n",
        "        total_cost += price * amount_bought\n",
        "\n",
        "    # Print the total cost\n",
        "    print(\"Your total is $\" + str(total_cost))\n",
        "\n",
        "\n",
        "# Python boilerplate to call main()\n",
        "if __name__ == '__main__':\n",
        "    main()\n"
      ],
      "metadata": {
        "colab": {
          "base_uri": "https://localhost:8080/"
        },
        "id": "GTi_iGuEymMe",
        "outputId": "aa228c5a-e650-4dd9-c922-c706d3bf075e"
      },
      "execution_count": 2,
      "outputs": [
        {
          "output_type": "stream",
          "name": "stdout",
          "text": [
            "How many (apple) do you want?: 2\n",
            "How many (durian) do you want?: 1\n",
            "How many (jackfruit) do you want?: 3\n",
            "How many (kiwi) do you want?: 5\n",
            "How many (rambutan) do you want?: 0\n",
            "How many (mango) do you want?: 2\n",
            "Your total is $308.0\n"
          ]
        }
      ]
    }
  ]
}