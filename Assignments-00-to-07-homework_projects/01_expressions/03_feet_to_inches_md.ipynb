{
  "nbformat": 4,
  "nbformat_minor": 0,
  "metadata": {
    "colab": {
      "provenance": []
    },
    "kernelspec": {
      "name": "python3",
      "display_name": "Python 3"
    },
    "language_info": {
      "name": "python"
    }
  },
  "cells": [
    {
      "cell_type": "markdown",
      "source": [
        "## **Problem Statement**"
      ],
      "metadata": {
        "id": "2D1Yux8-8IEj"
      }
    },
    {
      "cell_type": "markdown",
      "source": [
        "Converts feet to inches. Feet is an American unit of measurement. There are 12 inches per foot. Foot is the singular, and feet is the plural."
      ],
      "metadata": {
        "id": "ICihHI6H8My4"
      }
    },
    {
      "cell_type": "markdown",
      "source": [
        "## **Solution**"
      ],
      "metadata": {
        "id": "WvnB4_mU8PWX"
      }
    },
    {
      "cell_type": "code",
      "source": [
        "\"\"\"\n",
        "An example program with constants\n",
        "\"\"\"\n",
        "\n",
        "# Constant for conversion: 1 foot = 12 inches\n",
        "INCHES_IN_FOOT = 12\n",
        "\n",
        "def main():\n",
        "    # Ask the user for the number of feet\n",
        "    feet = float(input(\"Enter number of feet: \"))\n",
        "\n",
        "    # Convert feet to inches\n",
        "    inches = feet * INCHES_IN_FOOT\n",
        "\n",
        "    # Display the result\n",
        "    print(\"That is\", inches, \"inches!\")\n",
        "\n",
        "# This provided line is required at the end of a Python file\n",
        "# to call the main() function.\n",
        "if __name__ == '__main__':\n",
        "    main()\n"
      ],
      "metadata": {
        "colab": {
          "base_uri": "https://localhost:8080/"
        },
        "id": "-uNklCYR8UF1",
        "outputId": "0e44c9ec-1535-4b49-c265-09c8e8279cb9"
      },
      "execution_count": 1,
      "outputs": [
        {
          "output_type": "stream",
          "name": "stdout",
          "text": [
            "Enter number of feet: 10\n",
            "That is 120.0 inches!\n"
          ]
        }
      ]
    }
  ]
}