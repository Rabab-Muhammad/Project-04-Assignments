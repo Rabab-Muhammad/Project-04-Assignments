{
  "nbformat": 4,
  "nbformat_minor": 0,
  "metadata": {
    "colab": {
      "provenance": []
    },
    "kernelspec": {
      "name": "python3",
      "display_name": "Python 3"
    },
    "language_info": {
      "name": "python"
    }
  },
  "cells": [
    {
      "cell_type": "markdown",
      "source": [
        "## **Problem Statement**"
      ],
      "metadata": {
        "id": "aP39BOJ8BgQP"
      }
    },
    {
      "cell_type": "markdown",
      "source": [
        "Write a program which prompts the user for an adjective, then a noun, then a verb, and then prints a fun sentence with those words!\n",
        "\n",
        "Mad Libs is a word game where players are prompted for one word at a time, and the words are eventually filled into the blanks of a word template to make an entertaining story! We've provided you with the beginning of a sentence (the SENTENCE_START constant) which will end in a user-inputted adjective, noun, and then verb.\n",
        "\n",
        "Here's a sample run (user input is in bold italics):\n",
        "\n",
        "Please type an adjective and press enter. tiny\n",
        "\n",
        "Please type a noun and press enter. plant\n",
        "\n",
        "Please type a verb and press enter. fly\n",
        "\n",
        "Code in Place is fun. I learned to program and used Python to make my tiny plant fly!"
      ],
      "metadata": {
        "id": "8l6zSIX7BlbL"
      }
    },
    {
      "cell_type": "markdown",
      "source": [
        "## **Solution**"
      ],
      "metadata": {
        "id": "wtO00zU6BoTA"
      }
    },
    {
      "cell_type": "code",
      "source": [
        "# Starting part of the sentence\n",
        "SENTENCE_START: str = \"Panaversity is fun. I learned to program and used Python to make my \"  # adjective noun verb\n",
        "\n",
        "def main():\n",
        "    # Prompt the user for an adjective, noun, and verb\n",
        "    adjective: str = input(\"Please type an adjective and press enter. \")\n",
        "    noun: str = input(\"Please type a noun and press enter. \")\n",
        "    verb: str = input(\"Please type a verb and press enter. \")\n",
        "\n",
        "    # Combine the inputs with the sentence start and print the final sentence\n",
        "    print(SENTENCE_START + adjective + \" \" + noun + \" \" + verb + \"!\")\n",
        "\n",
        "# This line calls the main function when the script is run\n",
        "if __name__ == '__main__':\n",
        "    main()\n"
      ],
      "metadata": {
        "colab": {
          "base_uri": "https://localhost:8080/"
        },
        "id": "1fdAKPCWBtgT",
        "outputId": "2a9e0aa8-cd45-46e1-e418-501e61eaa7bb"
      },
      "execution_count": 1,
      "outputs": [
        {
          "output_type": "stream",
          "name": "stdout",
          "text": [
            "Please type an adjective and press enter. 5\n",
            "Please type a noun and press enter. 4\n",
            "Please type a verb and press enter. 2\n",
            "Panaversity is fun. I learned to program and used Python to make my 5 4 2!\n"
          ]
        }
      ]
    }
  ]
}