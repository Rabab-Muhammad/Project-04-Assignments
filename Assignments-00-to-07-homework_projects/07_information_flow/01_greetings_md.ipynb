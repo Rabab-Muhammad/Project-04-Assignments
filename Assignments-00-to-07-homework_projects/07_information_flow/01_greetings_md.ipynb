{
  "nbformat": 4,
  "nbformat_minor": 0,
  "metadata": {
    "colab": {
      "provenance": []
    },
    "kernelspec": {
      "name": "python3",
      "display_name": "Python 3"
    },
    "language_info": {
      "name": "python"
    }
  },
  "cells": [
    {
      "cell_type": "markdown",
      "source": [
        "## **Problem Statement**"
      ],
      "metadata": {
        "id": "RlWh-_8XJ2wF"
      }
    },
    {
      "cell_type": "markdown",
      "source": [
        "We've written a helper function for you called greet(name) which takes as input a string name and prints a greeting. Write some code in main() to get the user's name and then greet them, being sure to call the greet(name) helper function.\n",
        "\n",
        "Here's a sample run of the program (user input in bold italics):\n",
        "\n",
        "What's your name? Sophia\n",
        "\n",
        "Greetings Sophia!"
      ],
      "metadata": {
        "id": "iLRwERuHJ6Bt"
      }
    },
    {
      "cell_type": "markdown",
      "source": [
        "## **Solution**"
      ],
      "metadata": {
        "id": "t6ovxXBXJ82E"
      }
    },
    {
      "cell_type": "code",
      "source": [
        "def main():\n",
        "    name: str = input(\"What's your name? \")\n",
        "    print(greet(name))\n",
        "\n",
        "# There is no need to edit code beyond this point\n",
        "\n",
        "def greet(name):\n",
        "    return \"Greetings \" + name + \"!\"\n",
        "\n",
        "if __name__ == '__main__':\n",
        "    main()\n"
      ],
      "metadata": {
        "colab": {
          "base_uri": "https://localhost:8080/"
        },
        "id": "Pf3R-Vu1KAH-",
        "outputId": "632187aa-2788-498a-a73d-83e1a5995312"
      },
      "execution_count": 1,
      "outputs": [
        {
          "output_type": "stream",
          "name": "stdout",
          "text": [
            "What's your name? Sophia\n",
            "Greetings Sophia!\n"
          ]
        }
      ]
    }
  ]
}