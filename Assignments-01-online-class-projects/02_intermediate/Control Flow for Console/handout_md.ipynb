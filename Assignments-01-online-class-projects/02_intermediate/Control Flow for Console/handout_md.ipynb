{
  "nbformat": 4,
  "nbformat_minor": 0,
  "metadata": {
    "colab": {
      "provenance": []
    },
    "kernelspec": {
      "name": "python3",
      "display_name": "Python 3"
    },
    "language_info": {
      "name": "python"
    }
  },
  "cells": [
    {
      "cell_type": "markdown",
      "source": [
        "## **Problem: High Low**"
      ],
      "metadata": {
        "id": "iphX0d5eYKsl"
      }
    },
    {
      "cell_type": "markdown",
      "source": [
        "We want you to gain more experience working with control flow and Booleans in Python. To do this, we are going to have you develop a game! The game is called High-Low and the way it's played goes as follows:\n",
        "\n",
        "Two numbers are generated from 1 to 100 (inclusive on both ends): one for you and one for a computer, who will be your opponent. You can see your number, but not the computer's!\n",
        "\n",
        "You make a guess, saying your number is either higher than or lower than the computer's number\n",
        "\n",
        "If your guess matches the truth (ex. you guess your number is higher, and then your number is actually higher than the computer's), you get a point!\n",
        "\n",
        "These steps make up one round of the game. The game is over after all rounds have been played.\n",
        "\n",
        "We've provided a sample run below."
      ],
      "metadata": {
        "id": "_OBGpeZvatJY"
      }
    },
    {
      "cell_type": "markdown",
      "source": [
        "Here are some milestones to guide you through the problem:\n",
        "\n",
        "Milestone #1: Generate the random numbers\n",
        "Generate the random numbers for you and the computer. For now, print both of them out to help you test the logic in later milestones."
      ],
      "metadata": {
        "id": "CtBnhqghbAhH"
      }
    },
    {
      "cell_type": "markdown",
      "source": [
        "Milestone #2: Get the user choice\n",
        "Get user input for their choice of whether they think their number is higher or lower than the computer's number."
      ],
      "metadata": {
        "id": "0bhnF4gubE64"
      }
    },
    {
      "cell_type": "markdown",
      "source": [
        "Milestone #3: Write the game logic\n",
        "Write code that maps out all the ways to win the round and prints out the results. When does the user win? How might we check for this? (Note: If you and the computer share the same number, the computer should win since your number wouldn't be higher nor lower.)"
      ],
      "metadata": {
        "id": "o9OCRAELbIOD"
      }
    },
    {
      "cell_type": "markdown",
      "source": [
        "Milestone #4: Play multiple rounds\n",
        "Milestones 1-3 make up a single round of the game. Now that your game logic is sound, you can remove the line printing out the computer's number. Next, write code to play multiple rounds of the game! How many rounds should they play you ask? We've provided you with the NUM_ROUNDS constant. NUM_ROUNDS is the number of rounds you should have the user play. For reference, in the first example, we had NUM_ROUNDS = 3. After each round, add a blank line to separate the rounds visually. Make sure to print out the round number as well!"
      ],
      "metadata": {
        "id": "_ZFDchJgbNB3"
      }
    },
    {
      "cell_type": "markdown",
      "source": [
        "Milestone #5: Adding a points system\n",
        "Keep track of the player's score! You should print out the player's score after each round. After this step, you will have coded up the entire game!\n",
        "\n",
        "Extension #1: Safeguard user input\n",
        "Get user input for their choice of whether they think their number is higher or lower than the computer's number.\n",
        "\n",
        "Welcome to the High-Low Game!\n",
        "Round 1 Your number is 1 Do you think your number is higher or lower than the computer's?: even Please enter either higher or lower: lower You were right! The computer's number was 6 Your score is now 1\n",
        "\n",
        "Extension #2: Conditional ending messages\n",
        "Add conditional messages at the end which gauge players on how they performed! For ours, we evaluated the player and gave them separate messages if:\n",
        "\n",
        "they had a perfect game\n",
        "\n",
        "... Your score is now 5\n",
        "\n",
        "Wow! You played perfectly!\n",
        "\n",
        "they won at least half the rounds (rounded down)\n",
        "\n",
        "... Your score is now 2\n",
        "\n",
        "Good job, you played really well!\n",
        "\n",
        "they won less than half the rounds\n",
        "\n",
        "... Your score is now 1\n",
        "\n",
        "Better luck next time!"
      ],
      "metadata": {
        "id": "cobMeEiZbQj4"
      }
    }
  ]
}