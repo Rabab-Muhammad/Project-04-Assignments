{
  "nbformat": 4,
  "nbformat_minor": 0,
  "metadata": {
    "colab": {
      "provenance": []
    },
    "kernelspec": {
      "name": "python3",
      "display_name": "Python 3"
    },
    "language_info": {
      "name": "python"
    }
  },
  "cells": [
    {
      "cell_type": "markdown",
      "source": [
        "## **Problem: Planetary Weight Calculator**"
      ],
      "metadata": {
        "id": "W2g2KLM0cdjJ"
      }
    },
    {
      "cell_type": "markdown",
      "source": [
        "Milestone #1: Mars Weight\n",
        "A few years ago, NASA made history with the first controlled flight on another planet. Its latest Mars Rover, Perseverance, has onboard a 50cm high helicopter called Ingenuity. Ingenuity made its third flight, during which it flew faster and further than it had on any of its test flights on Earth. Interestingly, Ingenuity uses Python for some of its flight modeling software!\n",
        "\n",
        "Ingenuity on the surface of Mars (source: NASA)\n",
        "\n",
        "When programming Ingenuity, one of the things that NASA engineers need to account for is the fact that due to the weaker gravity on Mars, an Earthling's weight on Mars is 37.8% of their weight on Earth. Write a Python program that prompts an Earthling to enter their weight on Earth and prints their calculated weight on Mars.\n",
        "\n",
        "The output should be rounded to two decimal places when necessary. Python has a round function which can help you with this. You pass in the value to be rounded and the number of decimal places to use. In the example below, the number 3.1415926 is rounded to 2 decimal places which is 3.14."
      ],
      "metadata": {
        "id": "GB0yuET8cfm3"
      }
    },
    {
      "cell_type": "code",
      "source": [
        "x = 3.1415926\n",
        "rounded_x = round(x, 2) # rounds x to 2 decimal places\n",
        "print(rounded_x)\n",
        "\n",
        "# This would print out out 3.14\n",
        "\n",
        "x = 2.71828\n",
        "rounded_x = round(x, 4)\n",
        "print(rounded_x)\n",
        "\n",
        "# This would print out 2.7183\n",
        "\n",
        "x = 3\n",
        "rounded_x = round(x, 4)\n",
        "print(rounded_x)\n",
        "\n",
        "# This would print 3\n",
        "# Note that the round function does not add on decimal places that are not there already\n",
        "\n",
        "Sample Run\n",
        "\n",
        "$ python marsweight.py\n",
        "\n",
        "Enter a weight on Earth: 120\n",
        "\n",
        "The equivalent on Mars: 45.36\n",
        "\n",
        "Sample Run\n",
        "\n",
        "$ python marsweight.py\n",
        "\n",
        "Enter a weight on Earth: 186\n",
        "\n",
        "The equivalent on Mars: 70.31\n"
      ],
      "metadata": {
        "id": "xZNM8NqucrFZ"
      },
      "execution_count": null,
      "outputs": []
    },
    {
      "cell_type": "markdown",
      "source": [
        "Milestone #2: Adding in All Planets\n",
        "Mars is not the only planet in our solar system with its own unique gravity. In fact, each planet has a different gravitational constant, which affects how much an object would weigh on that planet. Below is a list of the constants for each planet compared to Earth's gravity:\n",
        "\n",
        "Mercury: 37.6%\n",
        "\n",
        "Venus: 88.9%\n",
        "\n",
        "Mars: 37.8%\n",
        "\n",
        "Jupiter: 236.0%\n",
        "\n",
        "Saturn: 108.1%\n",
        "\n",
        "Uranus: 81.5%\n",
        "\n",
        "Neptune: 114.0%\n",
        "\n",
        "\n",
        "Write a Python program that prompts an Earthling to enter their weight on Earth and then to enter the name of a planet in our solar system. The program should print the equivalent weight on that planet rounded to 2 decimal places if necessary.\n",
        "\n",
        "You can assume that the user will always type in a planet with the first letter capitalized and you do not need to worry about the case where they type in something other than one of the above planets."
      ],
      "metadata": {
        "id": "kEBbMh5icsJp"
      }
    },
    {
      "cell_type": "code",
      "source": [
        "Sample Run\n",
        "\n",
        "$ python planetaryweight.py\n",
        "\n",
        "Enter a weight on Earth: 120\n",
        "\n",
        "Enter a planet: Mars\n",
        "\n",
        "The equivalent weight on Mars: 45.36\n",
        "\n",
        "Sample Run\n",
        "\n",
        "$ python planetaryweight.py\n",
        "\n",
        "Enter a weight on Earth: 150\n",
        "\n",
        "Enter a planet: Jupiter\n",
        "\n",
        "The equivalent weight on Jupiter: 354.0"
      ],
      "metadata": {
        "id": "M-moLYa4c5aw"
      },
      "execution_count": null,
      "outputs": []
    },
    {
      "cell_type": "markdown",
      "source": [
        "Useful Syntax\n",
        "\n",
        "Python has an if statement! This if statement passes if the value of x is the same as the value of y. x and y can be literal numbers, strings, variables, or constants.\n",
        "\n",
        "x = 42 y = 42\n",
        "\n",
        "if x == y: print(\"x and y are equal!\")"
      ],
      "metadata": {
        "id": "N6H5R1jdc7up"
      }
    }
  ]
}