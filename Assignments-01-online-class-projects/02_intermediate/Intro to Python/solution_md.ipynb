{
  "nbformat": 4,
  "nbformat_minor": 0,
  "metadata": {
    "colab": {
      "provenance": []
    },
    "kernelspec": {
      "name": "python3",
      "display_name": "Python 3"
    },
    "language_info": {
      "name": "python"
    }
  },
  "cells": [
    {
      "cell_type": "markdown",
      "source": [
        "## **Mars Weight Solution**"
      ],
      "metadata": {
        "id": "9JLDMvMEdfw8"
      }
    },
    {
      "cell_type": "markdown",
      "source": [
        "There are three key stages to solving this problem:\n",
        "\n",
        "Getting the Earthling's weight from them, which we need the input function for.\n",
        "\n",
        "Converting the Earthing's weight from a string to a number so we can do math with it. We use the float function to do this, since the weight isn't necessarily a whole number\n",
        "\n",
        "Calculating the weight on Mars, which we do by multiplying the Earth weight by 0.378. To make the program easy to read, we store this number in a constant called MARS_MULTIPLE."
      ],
      "metadata": {
        "id": "M62tKUAsdjeB"
      }
    },
    {
      "cell_type": "markdown",
      "source": [
        "## **Check out the solution code to see all of these stages in action!**"
      ],
      "metadata": {
        "id": "C4hSX7LldnJt"
      }
    },
    {
      "cell_type": "markdown",
      "source": [
        "\"\"\" Prompts the user for a weight on Earth and prints the equivalent weight on Mars. \"\"\""
      ],
      "metadata": {
        "id": "W97jCpG4drxR"
      }
    },
    {
      "cell_type": "markdown",
      "source": [
        "## **We use constants!**"
      ],
      "metadata": {
        "id": "o_9fWmtdduM2"
      }
    },
    {
      "cell_type": "markdown",
      "source": [
        "MARS_MULTIPLE = 0.378\n",
        "\n",
        "def main(): earth_weight_str = input('Enter a weight on Earth: ')"
      ],
      "metadata": {
        "id": "g6Qu-vXRdyj7"
      }
    },
    {
      "cell_type": "code",
      "source": [
        "# Get the numeric value since input() returns a value in string form\n",
        "earth_weight = float(earth_weight_str)\n",
        "\n",
        "# Having a variable for each piece of information is a good habit\n",
        "mars_weight = earth_weight * MARS_MULTIPLE\n",
        "rounded_mars_weight = round(mars_weight, 2)\n",
        "\n",
        "\n",
        "# Note the string concatenation!\n",
        "print('The equivalent weight on Mars: ' + str(rounded_mars_weight))"
      ],
      "metadata": {
        "id": "6vTRYYdJd1D2"
      },
      "execution_count": null,
      "outputs": []
    },
    {
      "cell_type": "markdown",
      "source": [
        "if name == 'main': main()\n",
        "\n",
        "## **Planetary Weights Solution**"
      ],
      "metadata": {
        "id": "nup9sgyjd5Pi"
      }
    },
    {
      "cell_type": "markdown",
      "source": [
        "There are two key parts to this solution:\n",
        "\n",
        "Everything from the first part of the problem: getting a user's input, converting it to a float to do the calculation, and covering it to a string to print it out.\n",
        "\n",
        "Using if statements to check which gravitational constant to use based on the user's input."
      ],
      "metadata": {
        "id": "OcwO76t7eFq-"
      }
    },
    {
      "cell_type": "markdown",
      "source": [
        "## **Solution**\n",
        "\n",
        "\"\"\" Prompts the user for a weight on Earth and a planet (in separate inputs). Then prints the equivalent weight on that planet.\n",
        "\n",
        "Note that the user should type in a planet with the first letter as uppercase, and you do not need to handle the case where a user types in something other than one of the planets (that is not Earth). \"\"\"\n",
        "\n",
        "MERCURY_GRAVITY = 0.376 VENUS_GRAVITY = 0.889 MARS_GRAVITY = 0.378 JUPITER_GRAVITY = 2.36 SATURN_GRAVITY = 1.081 URANUS_GRAVITY = 0.815 NEPTUNE_GRAVITY = 1.14 EARTH_GRAVITY = 1.0\n",
        "\n",
        "def main(): # Prompt the user for their weight on Earth earth_weight = float(input(\"Enter a weight on Earth: \"))"
      ],
      "metadata": {
        "id": "hvHc_NRNeHBy"
      }
    },
    {
      "cell_type": "code",
      "source": [
        "# Planetary gravity constants (as multiples of Earth's gravity)\n",
        "MERCURY_GRAVITY = 0.376\n",
        "VENUS_GRAVITY = 0.889\n",
        "MARS_GRAVITY = 0.378\n",
        "JUPITER_GRAVITY = 2.36\n",
        "SATURN_GRAVITY = 1.081\n",
        "URANUS_GRAVITY = 0.815\n",
        "NEPTUNE_GRAVITY = 1.14\n",
        "\n",
        "def main():\n",
        "    # Prompt the user for their weight on Earth\n",
        "    earth_weight = float(input(\"Enter a weight on Earth: \"))\n",
        "\n",
        "    # Prompt the user for the name of a planet\n",
        "    planet = input(\"Enter a planet: \")\n",
        "\n",
        "    # Determine the gravity constant based on the planet name\n",
        "    if planet == \"Mercury\":\n",
        "        gravity = MERCURY_GRAVITY\n",
        "    elif planet == \"Venus\":\n",
        "        gravity = VENUS_GRAVITY\n",
        "    elif planet == \"Mars\":\n",
        "        gravity = MARS_GRAVITY\n",
        "    elif planet == \"Jupiter\":\n",
        "        gravity = JUPITER_GRAVITY\n",
        "    elif planet == \"Saturn\":\n",
        "        gravity = SATURN_GRAVITY\n",
        "    elif planet == \"Uranus\":\n",
        "        gravity = URANUS_GRAVITY\n",
        "    elif planet == \"Neptune\":\n",
        "        gravity = NEPTUNE_GRAVITY\n",
        "    else:\n",
        "        print(\"Unknown planet.\")\n",
        "        return\n",
        "\n",
        "    # Calculate and round the weight\n",
        "    planetary_weight = round(earth_weight * gravity, 2)\n",
        "\n",
        "    # Display the result\n",
        "    print(\"The equivalent weight on \" + planet + \": \" + str(planetary_weight))\n",
        "\n",
        "# Standard Python entry point\n",
        "if __name__ == \"__main__\":\n",
        "    main()\n"
      ],
      "metadata": {
        "colab": {
          "base_uri": "https://localhost:8080/"
        },
        "id": "_Quk7G4lePHn",
        "outputId": "4026d6d8-3d11-4b91-d8b3-d86b843c010a"
      },
      "execution_count": 1,
      "outputs": [
        {
          "output_type": "stream",
          "name": "stdout",
          "text": [
            "Enter a weight on Earth: 150\n",
            "Enter a planet: Jupiter\n",
            "The equivalent weight on Jupiter: 354.0\n"
          ]
        }
      ]
    }
  ]
}