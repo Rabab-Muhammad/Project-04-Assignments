{
  "nbformat": 4,
  "nbformat_minor": 0,
  "metadata": {
    "colab": {
      "provenance": []
    },
    "kernelspec": {
      "name": "python3",
      "display_name": "Python 3"
    },
    "language_info": {
      "name": "python"
    }
  },
  "cells": [
    {
      "cell_type": "markdown",
      "source": [
        "## **Planetary WeightsDownload Project**"
      ],
      "metadata": {
        "id": "fot4GfmYfDjp"
      }
    },
    {
      "cell_type": "code",
      "source": [
        "\"\"\"\n",
        "Prompts the user for a weight on Earth\n",
        "and a planet (in separate inputs). Then\n",
        "prints the equivalent weight on that planet.\n",
        "\n",
        "Note that the user should type in a planet with\n",
        "the first letter as uppercase, and you do not need\n",
        "to handle the case where a user types in something\n",
        "other than one of the planets (that is not Earth).\n",
        "\"\"\"\n",
        "\n",
        "\n",
        "# Mars Weight\n",
        "\n",
        "\"\"\"\n",
        "Prompts the user for a weight on Earth\n",
        "and prints the equivalent weight on Mars.\n",
        "\"\"\"\n",
        "\n",
        "def main():\n",
        "    # Fill this function out!\n",
        "    pass\n",
        "\n",
        "if __name__ == \"__main__\":\n",
        "    main()"
      ],
      "metadata": {
        "id": "p8wHI-WhfGbZ"
      },
      "execution_count": null,
      "outputs": []
    }
  ]
}