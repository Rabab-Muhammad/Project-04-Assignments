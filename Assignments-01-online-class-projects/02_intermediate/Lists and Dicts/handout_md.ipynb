{
  "nbformat": 4,
  "nbformat_minor": 0,
  "metadata": {
    "colab": {
      "provenance": []
    },
    "kernelspec": {
      "name": "python3",
      "display_name": "Python 3"
    },
    "language_info": {
      "name": "python"
    }
  },
  "cells": [
    {
      "cell_type": "markdown",
      "source": [
        "## **Problem #1: List Practice**"
      ],
      "metadata": {
        "id": "Hzw45mujf-lu"
      }
    },
    {
      "cell_type": "markdown",
      "source": [
        "Now practice writing code with lists! Implement the functionality described in the comments below.\n",
        "\n",
        "def main(): # Create a list called fruit_list that contains the following fruits: # 'apple', 'banana', 'orange', 'grape', 'pineapple'."
      ],
      "metadata": {
        "id": "w0opviaugEI8"
      }
    },
    {
      "cell_type": "code",
      "source": [
        "# Print the length of the list.\n",
        "\n",
        "\n",
        "# Add 'mango' at the end of the list.\n",
        "\n",
        "\n",
        "# Print the updated list."
      ],
      "metadata": {
        "id": "qqAv27xAgHHC"
      },
      "execution_count": null,
      "outputs": []
    },
    {
      "cell_type": "markdown",
      "source": [
        "## **Problem #2: Index Game**"
      ],
      "metadata": {
        "id": "oVyWuDFNgJab"
      }
    },
    {
      "cell_type": "markdown",
      "source": [
        "As a warmup, read this code and play the game a few times. Use this mental model of the list:"
      ],
      "metadata": {
        "id": "PII2uUe7gN3A"
      }
    },
    {
      "cell_type": "markdown",
      "source": [
        "### **Objective:**"
      ],
      "metadata": {
        "id": "_9Uusvx7gSFU"
      }
    },
    {
      "cell_type": "markdown",
      "source": [
        "Create a Python program that helps you practice accessing and manipulating elements in a list. This exercise will help you get comfortable with indexing, slicing, and modifying list elements."
      ],
      "metadata": {
        "id": "6fRJatvqgVNJ"
      }
    },
    {
      "cell_type": "markdown",
      "source": [
        "### **Instructions:**"
      ],
      "metadata": {
        "id": "YkI3gqtkgYWj"
      }
    },
    {
      "cell_type": "markdown",
      "source": [
        "**Initialize a List:**"
      ],
      "metadata": {
        "id": "uH0orGZCghvR"
      }
    },
    {
      "cell_type": "markdown",
      "source": [
        "Create a list with at least 5 different elements. They can be numbers, strings, or a mix of both."
      ],
      "metadata": {
        "id": "pY_bWzOcgrka"
      }
    },
    {
      "cell_type": "markdown",
      "source": [
        "**Accessing Elements:**"
      ],
      "metadata": {
        "id": "gGVhPYCugwb-"
      }
    },
    {
      "cell_type": "markdown",
      "source": [
        "Write a function that:\n",
        "\n",
        "Accepts a list and an index as inputs.\n",
        "\n",
        "Returns the element at the specified index.\n",
        "\n",
        "If the index is out of range, return an appropriate message."
      ],
      "metadata": {
        "id": "CtiLnMu5g0BB"
      }
    },
    {
      "cell_type": "markdown",
      "source": [
        "**Modifying Elements:**"
      ],
      "metadata": {
        "id": "WIdoqz6tg4Ht"
      }
    },
    {
      "cell_type": "markdown",
      "source": [
        "Write a function that:\n",
        "\n",
        "Accepts a list, an index, and a new value as inputs.\n",
        "\n",
        "Replaces the element at the specified index with the new value.\n",
        "\n",
        "If the index is out of range, return an appropriate message."
      ],
      "metadata": {
        "id": "5bKXAKDkg81q"
      }
    },
    {
      "cell_type": "markdown",
      "source": [
        "**Slicing the List:**"
      ],
      "metadata": {
        "id": "ypZ_hJZAhAhI"
      }
    },
    {
      "cell_type": "markdown",
      "source": [
        "Write a function that:\n",
        "\n",
        "Accepts a list, a start index, and an end index as inputs.\n",
        "\n",
        "Returns a new list containing the elements from the start index up to (but not including) the end index.\n",
        "\n",
        "Handles cases where the indices are out of range."
      ],
      "metadata": {
        "id": "w7pT-N_UhGIt"
      }
    },
    {
      "cell_type": "markdown",
      "source": [
        "#### **Game Interaction:**"
      ],
      "metadata": {
        "id": "-M_IT3uxhKhQ"
      }
    },
    {
      "cell_type": "markdown",
      "source": [
        "Create a simple text-based game that:\n",
        "\n",
        "Prompts the user to select an operation (access, modify, slice).\n",
        "\n",
        "Asks for the necessary inputs (index, new value, etc.).\n",
        "\n",
        "Displays the result and the updated list."
      ],
      "metadata": {
        "id": "vaihtbzrhTTu"
      }
    }
  ]
}